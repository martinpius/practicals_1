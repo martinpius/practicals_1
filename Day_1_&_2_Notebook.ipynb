{
  "nbformat": 4,
  "nbformat_minor": 0,
  "metadata": {
    "colab": {
      "provenance": [],
      "authorship_tag": "ABX9TyPb4hhl1arH2y9xQBZpWJlk",
      "include_colab_link": true
    },
    "kernelspec": {
      "name": "python3",
      "display_name": "Python 3"
    },
    "language_info": {
      "name": "python"
    }
  },
  "cells": [
    {
      "cell_type": "markdown",
      "metadata": {
        "id": "view-in-github",
        "colab_type": "text"
      },
      "source": [
        "<a href=\"https://colab.research.google.com/github/martinpius/practicals_1/blob/main/Day_1_%26_2_Notebook.ipynb\" target=\"_parent\"><img src=\"https://colab.research.google.com/assets/colab-badge.svg\" alt=\"Open In Colab\"/></a>"
      ]
    },
    {
      "cell_type": "code",
      "execution_count": 1,
      "metadata": {
        "id": "Rwj7csLAZK7t"
      },
      "outputs": [],
      "source": [
        "# Numbers in Python\n",
        "a = 10 # int\n",
        "b = 1.2# float"
      ]
    },
    {
      "cell_type": "code",
      "source": [
        "# Python List:\n",
        "even = [2,4,6]\n",
        "odd = list((1,3,5))"
      ],
      "metadata": {
        "id": "Q1Y1F9blZyh8"
      },
      "execution_count": 2,
      "outputs": []
    },
    {
      "cell_type": "code",
      "source": [
        "S = \"Enter your text:\"\n",
        "lower_case = S.lower()\n",
        "upper_case = S.upper()\n"
      ],
      "metadata": {
        "id": "8oRPiea3Z3cj"
      },
      "execution_count": 3,
      "outputs": []
    },
    {
      "cell_type": "code",
      "source": [
        "lower_case"
      ],
      "metadata": {
        "colab": {
          "base_uri": "https://localhost:8080/",
          "height": 35
        },
        "id": "i4rddChwanNV",
        "outputId": "53cd7f52-a1e1-4b50-bd07-f06ff03cb60e"
      },
      "execution_count": 4,
      "outputs": [
        {
          "output_type": "execute_result",
          "data": {
            "text/plain": [
              "'enter your text:'"
            ],
            "application/vnd.google.colaboratory.intrinsic+json": {
              "type": "string"
            }
          },
          "metadata": {},
          "execution_count": 4
        }
      ]
    },
    {
      "cell_type": "code",
      "source": [
        "upper_case"
      ],
      "metadata": {
        "colab": {
          "base_uri": "https://localhost:8080/",
          "height": 35
        },
        "id": "snnsDFATapCz",
        "outputId": "b3ae6ee0-ea06-4da9-dc6d-575bd4ecf9dc"
      },
      "execution_count": 5,
      "outputs": [
        {
          "output_type": "execute_result",
          "data": {
            "text/plain": [
              "'ENTER YOUR TEXT:'"
            ],
            "application/vnd.google.colaboratory.intrinsic+json": {
              "type": "string"
            }
          },
          "metadata": {},
          "execution_count": 5
        }
      ]
    },
    {
      "cell_type": "code",
      "source": [
        "even[2] = 100 # Change the 3rd element to 100\n",
        "even_ = even * 2 # Concat the same list 2 times"
      ],
      "metadata": {
        "id": "rqxwy05Saqdy"
      },
      "execution_count": 6,
      "outputs": []
    },
    {
      "cell_type": "code",
      "source": [
        "even.append([100, 200, 300]) # Append another list to existing one"
      ],
      "metadata": {
        "id": "o3yVIoICaujz"
      },
      "execution_count": 7,
      "outputs": []
    },
    {
      "cell_type": "code",
      "source": [
        "# Python tupple: Immutable\n",
        "even_tuple = (6, 8, 10)\n",
        "list(even_tuple)[0] = 100"
      ],
      "metadata": {
        "id": "KWMe_Rqba5Cy"
      },
      "execution_count": 8,
      "outputs": []
    },
    {
      "cell_type": "code",
      "source": [
        "even_tuple[0] = 100 # change first ellent to 100: immutable"
      ],
      "metadata": {
        "colab": {
          "base_uri": "https://localhost:8080/",
          "height": 141
        },
        "id": "mAxQOiYva8Vm",
        "outputId": "5e516641-3c88-4db6-a533-69e1b678b749"
      },
      "execution_count": 9,
      "outputs": [
        {
          "output_type": "error",
          "ename": "TypeError",
          "evalue": "'tuple' object does not support item assignment",
          "traceback": [
            "\u001b[0;31m---------------------------------------------------------------------------\u001b[0m",
            "\u001b[0;31mTypeError\u001b[0m                                 Traceback (most recent call last)",
            "\u001b[0;32m<ipython-input-9-77e81ce4f1a4>\u001b[0m in \u001b[0;36m<cell line: 0>\u001b[0;34m()\u001b[0m\n\u001b[0;32m----> 1\u001b[0;31m \u001b[0meven_tuple\u001b[0m\u001b[0;34m[\u001b[0m\u001b[0;36m0\u001b[0m\u001b[0;34m]\u001b[0m \u001b[0;34m=\u001b[0m \u001b[0;36m100\u001b[0m \u001b[0;31m# change first ellent to 100: immutable\u001b[0m\u001b[0;34m\u001b[0m\u001b[0;34m\u001b[0m\u001b[0m\n\u001b[0m",
            "\u001b[0;31mTypeError\u001b[0m: 'tuple' object does not support item assignment"
          ]
        }
      ]
    },
    {
      "cell_type": "code",
      "source": [
        "even_tuple.append(200)# Not allowed"
      ],
      "metadata": {
        "colab": {
          "base_uri": "https://localhost:8080/",
          "height": 141
        },
        "id": "vqODTHOra_E3",
        "outputId": "b6382e92-bf78-41b3-fb9e-28787fbf6787"
      },
      "execution_count": 10,
      "outputs": [
        {
          "output_type": "error",
          "ename": "AttributeError",
          "evalue": "'tuple' object has no attribute 'append'",
          "traceback": [
            "\u001b[0;31m---------------------------------------------------------------------------\u001b[0m",
            "\u001b[0;31mAttributeError\u001b[0m                            Traceback (most recent call last)",
            "\u001b[0;32m<ipython-input-10-5949aa1ea3a9>\u001b[0m in \u001b[0;36m<cell line: 0>\u001b[0;34m()\u001b[0m\n\u001b[0;32m----> 1\u001b[0;31m \u001b[0meven_tuple\u001b[0m\u001b[0;34m.\u001b[0m\u001b[0mappend\u001b[0m\u001b[0;34m(\u001b[0m\u001b[0;36m200\u001b[0m\u001b[0;34m)\u001b[0m\u001b[0;31m# Not allowed\u001b[0m\u001b[0;34m\u001b[0m\u001b[0;34m\u001b[0m\u001b[0m\n\u001b[0m",
            "\u001b[0;31mAttributeError\u001b[0m: 'tuple' object has no attribute 'append'"
          ]
        }
      ]
    },
    {
      "cell_type": "code",
      "source": [
        "# Python dictionary\n",
        "even_dict = {\"a\": 20, \"b\": 40, \"c\": 60}\n",
        "\n",
        "print(list(even_dict.values())) # print all values\n",
        "print(list(even_dict.keys())) # print all keys of the dictionary\n",
        "# Iterate over a dict\n",
        "for k, v in even_dict.items():\n",
        "    print(f\"key: {k}, value: {v}\")\n",
        "# More can be done..."
      ],
      "metadata": {
        "colab": {
          "base_uri": "https://localhost:8080/"
        },
        "id": "BuiLCxuKbDwd",
        "outputId": "e4d3d0f3-4d1b-4f67-96e2-9edb0030e5cf"
      },
      "execution_count": 11,
      "outputs": [
        {
          "output_type": "stream",
          "name": "stdout",
          "text": [
            "[20, 40, 60]\n",
            "['a', 'b', 'c']\n",
            "key: a, value: 20\n",
            "key: b, value: 40\n",
            "key: c, value: 60\n"
          ]
        }
      ]
    },
    {
      "cell_type": "code",
      "source": [
        "# Python Set: {Uni}\n",
        "set1 = set((1,2,3,4,5,5,6,7,8,8,8,9))\n",
        "set2 = {1,2,3,4,5,5,5,6,7,8,8,8,9}\n",
        "print(f\"set1: {set1}, set2: {set2}\")\n",
        "# More operations are available such as .add, .remove, ..etc"
      ],
      "metadata": {
        "colab": {
          "base_uri": "https://localhost:8080/"
        },
        "id": "AYtnQeGYbHR-",
        "outputId": "50e2ba7f-9566-46e5-8b6d-937ca04f27d8"
      },
      "execution_count": 12,
      "outputs": [
        {
          "output_type": "stream",
          "name": "stdout",
          "text": [
            "set1: {1, 2, 3, 4, 5, 6, 7, 8, 9}, set2: {1, 2, 3, 4, 5, 6, 7, 8, 9}\n"
          ]
        }
      ]
    },
    {
      "cell_type": "code",
      "source": [
        "# Type conversions for data cleaning\n",
        "#==============================================================================\n",
        "raw_value = \"34.7\"  # Common scenario: string from CSV files\n",
        "clean_float = float(raw_value) # casting\n",
        "print(f\"Type: {type(clean_float)}, Value: {clean_float}\")"
      ],
      "metadata": {
        "colab": {
          "base_uri": "https://localhost:8080/"
        },
        "id": "cIUsn9vnbKm5",
        "outputId": "b97c3319-454a-4454-883b-236447e574a0"
      },
      "execution_count": 13,
      "outputs": [
        {
          "output_type": "stream",
          "name": "stdout",
          "text": [
            "Type: <class 'float'>, Value: 34.7\n"
          ]
        }
      ]
    },
    {
      "cell_type": "code",
      "source": [
        "# Conditional statements in Python:\n",
        "#===============================================================================\n",
        "# If statement\n",
        "x = 10\n",
        "if x > 5:\n",
        "    print(\"x is greater than 5\")\n",
        "\n",
        "# If else statement\n",
        "x = 3\n",
        "if x > 5:\n",
        "    print(\"x is greater than 5\")\n",
        "else:\n",
        "    print(\"x is 5 or less\")\n",
        "\n",
        "# Extension of if else\n",
        "x = 5\n",
        "if x > 5:\n",
        "    print(\"x is greater than 5\")\n",
        "elif x == 5:\n",
        "    print(\"x is exactly 5\")\n",
        "else:\n",
        "    print(\"x is less than 5\")\n",
        "\n",
        "age = 25\n",
        "income = 40000\n",
        "\n",
        "if age > 18 and income > 30000:\n",
        "    print(\"Eligible\")\n",
        "\n",
        "if age < 18 or income < 10000:\n",
        "    print(\"Not eligible\")\n",
        "\n",
        "if not (age < 18):\n",
        "    print(\"Adult\")\n",
        "\n",
        "# Many tricks are available...."
      ],
      "metadata": {
        "colab": {
          "base_uri": "https://localhost:8080/"
        },
        "id": "TS0Py6pgbNpf",
        "outputId": "dc36a1d5-fcf6-4151-9144-81b6e91b821e"
      },
      "execution_count": 14,
      "outputs": [
        {
          "output_type": "stream",
          "name": "stdout",
          "text": [
            "x is greater than 5\n",
            "x is 5 or less\n",
            "x is exactly 5\n",
            "Eligible\n",
            "Adult\n"
          ]
        }
      ]
    },
    {
      "cell_type": "code",
      "source": [
        "# Boolean logic for hypothesis testing\n",
        "effect_present = True\n",
        "sample_size = 61\n",
        "sample_adequacy = (sample_size >= 30)\n",
        "decision = effect_present and sample_adequacy\n",
        "print(f\"Conclusion valid? {decision}\")"
      ],
      "metadata": {
        "colab": {
          "base_uri": "https://localhost:8080/"
        },
        "id": "8hGFbMFSbRUC",
        "outputId": "eea185a4-0fa5-465b-a491-93acab61be51"
      },
      "execution_count": 15,
      "outputs": [
        {
          "output_type": "stream",
          "name": "stdout",
          "text": [
            "Conclusion valid? True\n"
          ]
        }
      ]
    },
    {
      "cell_type": "code",
      "source": [
        "a = True\n",
        "b = 60\n",
        "c = False\n",
        "d = a and c\n",
        "print(d)"
      ],
      "metadata": {
        "colab": {
          "base_uri": "https://localhost:8080/"
        },
        "id": "4_5LN0_bbU3X",
        "outputId": "3f216631-6600-4a50-f05b-2831bdaa9b09"
      },
      "execution_count": 16,
      "outputs": [
        {
          "output_type": "stream",
          "name": "stdout",
          "text": [
            "False\n"
          ]
        }
      ]
    },
    {
      "cell_type": "code",
      "source": [
        "# Some boolean operations\n",
        "True and True\n",
        "True or True\n",
        "True or False\n"
      ],
      "metadata": {
        "colab": {
          "base_uri": "https://localhost:8080/"
        },
        "id": "fbzZCcyabXci",
        "outputId": "cf5fd4ec-b857-4ba1-e537-823479dc80f5"
      },
      "execution_count": 17,
      "outputs": [
        {
          "output_type": "execute_result",
          "data": {
            "text/plain": [
              "True"
            ]
          },
          "metadata": {},
          "execution_count": 17
        }
      ]
    },
    {
      "cell_type": "code",
      "source": [
        "False | True"
      ],
      "metadata": {
        "colab": {
          "base_uri": "https://localhost:8080/"
        },
        "id": "yuf_uGSsbkTB",
        "outputId": "517fa591-4783-4121-beb7-7b6a1a010667"
      },
      "execution_count": 18,
      "outputs": [
        {
          "output_type": "execute_result",
          "data": {
            "text/plain": [
              "True"
            ]
          },
          "metadata": {},
          "execution_count": 18
        }
      ]
    },
    {
      "cell_type": "code",
      "source": [
        "True & True"
      ],
      "metadata": {
        "colab": {
          "base_uri": "https://localhost:8080/"
        },
        "id": "CNY2fzPobnt4",
        "outputId": "99d0e7ed-8213-41dd-8eb1-482223c220e3"
      },
      "execution_count": 19,
      "outputs": [
        {
          "output_type": "execute_result",
          "data": {
            "text/plain": [
              "True"
            ]
          },
          "metadata": {},
          "execution_count": 19
        }
      ]
    },
    {
      "cell_type": "code",
      "source": [
        "# Elif ladder for multiple hypothesis outcomes\n",
        "p_value = 0.07\n",
        "alpha = 0.05\n",
        "\n",
        "if p_value < 0.01:\n",
        "    print(\"Strong evidence against H₀\")\n",
        "elif p_value < alpha:\n",
        "    print(\"Reject H₀\")\n",
        "else:\n",
        "    print(\"Fail to reject H₀\")"
      ],
      "metadata": {
        "colab": {
          "base_uri": "https://localhost:8080/"
        },
        "id": "JigsXou1bu4G",
        "outputId": "9de17d0e-d65b-4cf4-ff63-dade725e3170"
      },
      "execution_count": 20,
      "outputs": [
        {
          "output_type": "stream",
          "name": "stdout",
          "text": [
            "Fail to reject H₀\n"
          ]
        }
      ]
    },
    {
      "cell_type": "code",
      "source": [
        "# While loop & application for convergence checks (Simple simulation)\n",
        "iteration = 1\n",
        "current_error = 15.7\n",
        "while current_error > 0.5:\n",
        "    print(f\"Iteration {iteration}: Error={current_error}\")\n",
        "    current_error *= 0.8  # Simulating error reduction==> current_ = current * 0.8\n",
        "    iteration += 1\n",
        "\n",
        "# More on while & for loops can be added..."
      ],
      "metadata": {
        "colab": {
          "base_uri": "https://localhost:8080/"
        },
        "id": "CcgKelgRby_T",
        "outputId": "164d4b20-effe-4e77-a7c2-cf72d3d46372"
      },
      "execution_count": 21,
      "outputs": [
        {
          "output_type": "stream",
          "name": "stdout",
          "text": [
            "Iteration 1: Error=15.7\n",
            "Iteration 2: Error=12.56\n",
            "Iteration 3: Error=10.048000000000002\n",
            "Iteration 4: Error=8.038400000000001\n",
            "Iteration 5: Error=6.430720000000001\n",
            "Iteration 6: Error=5.144576000000001\n",
            "Iteration 7: Error=4.115660800000001\n",
            "Iteration 8: Error=3.2925286400000005\n",
            "Iteration 9: Error=2.6340229120000007\n",
            "Iteration 10: Error=2.1072183296000007\n",
            "Iteration 11: Error=1.6857746636800006\n",
            "Iteration 12: Error=1.3486197309440007\n",
            "Iteration 13: Error=1.0788957847552005\n",
            "Iteration 14: Error=0.8631166278041604\n",
            "Iteration 15: Error=0.6904933022433284\n",
            "Iteration 16: Error=0.5523946417946627\n"
          ]
        }
      ]
    },
    {
      "cell_type": "code",
      "source": [
        "L = [1,20, 10, 0.8]\n",
        "sorted(L)"
      ],
      "metadata": {
        "colab": {
          "base_uri": "https://localhost:8080/"
        },
        "id": "01oNeue4b2Gt",
        "outputId": "ae1ba83c-895e-4f2e-8b1c-f80ccec635a0"
      },
      "execution_count": 22,
      "outputs": [
        {
          "output_type": "execute_result",
          "data": {
            "text/plain": [
              "[0.8, 1, 10, 20]"
            ]
          },
          "metadata": {},
          "execution_count": 22
        }
      ]
    },
    {
      "cell_type": "code",
      "source": [
        "# Python List & Application in data analysis: Calculate confidence intervals\n",
        "data = [72, 68, 75, 81, 69, 65, 78, 82, 70, 77]\n",
        "n = len(data)\n",
        "mean = sum(data)/n\n",
        "sorted_data = sorted(data)\n",
        "lower_ci = sorted_data[int(0.025*n)]\n",
        "upper_ci = sorted_data[int(0.975*n)]\n",
        "\n",
        "print(f\"Bootstrap 95% CI: [{lower_ci}, {upper_ci}]\")\n",
        "# More operations using Python list can be added"
      ],
      "metadata": {
        "colab": {
          "base_uri": "https://localhost:8080/"
        },
        "id": "IwKkToXYb5PV",
        "outputId": "649cc347-ea85-4ad6-a03e-f699e16b6b1e"
      },
      "execution_count": 23,
      "outputs": [
        {
          "output_type": "stream",
          "name": "stdout",
          "text": [
            "Bootstrap 95% CI: [65, 82]\n"
          ]
        }
      ]
    },
    {
      "cell_type": "code",
      "source": [
        "# Python tuple and application in storing statistical test parameters\n",
        "\n",
        "t_test_config = (\n",
        "    \"two-sample\",              # test type\n",
        "    \"unequal_var\",             # variance assumption\n",
        "    {\"alpha\": 0.05, \"alternative\": \"two-sided\"}  # test parameters\n",
        ")\n",
        "\n",
        "print(f\"Performing {t_test_config[0]} t-test with {t_test_config[2]['alternative']} alternative and alpha={t_test_config[2]['alpha']}\")\n",
        "# More operations on tuple can be added"
      ],
      "metadata": {
        "colab": {
          "base_uri": "https://localhost:8080/"
        },
        "id": "ze5ge7ysb73l",
        "outputId": "a50d1e77-d408-490b-8460-1c8010a9cf3f"
      },
      "execution_count": 24,
      "outputs": [
        {
          "output_type": "stream",
          "name": "stdout",
          "text": [
            "Performing two-sample t-test with two-sided alternative and alpha=0.05\n"
          ]
        }
      ]
    },
    {
      "cell_type": "code",
      "source": [
        "# Python dictionary and example of a data structure\n",
        "trial_data = {\n",
        "    \"treatment_group\": {\n",
        "        \"n\": 150,\n",
        "        \"mean_improvement\": 12.7,\n",
        "        \"std_dev\": 4.3\n",
        "    },\n",
        "    \"control_group\": {\n",
        "        \"n\": 145,\n",
        "        \"mean_improvement\": 9.1,\n",
        "        \"std_dev\": 5.2\n",
        "    }\n",
        "}"
      ],
      "metadata": {
        "id": "0nO4TcMZcE7k"
      },
      "execution_count": 25,
      "outputs": []
    },
    {
      "cell_type": "code",
      "source": [
        "# Accessing nested data\n",
        "effect_size = (trial_data[\"treatment_group\"][\"mean_improvement\"]\n",
        "               - trial_data[\"control_group\"][\"mean_improvement\"])\n",
        "print(f\"Absolute treatment effect: {effect_size:.1f} points\")\n",
        "\n",
        "# Other dictionary operations can be explored"
      ],
      "metadata": {
        "colab": {
          "base_uri": "https://localhost:8080/"
        },
        "id": "C2pK9DPvcL6g",
        "outputId": "70c811b2-1a54-4dd9-a158-b14179ac5248"
      },
      "execution_count": 26,
      "outputs": [
        {
          "output_type": "stream",
          "name": "stdout",
          "text": [
            "Absolute treatment effect: 3.6 points\n"
          ]
        }
      ]
    },
    {
      "cell_type": "code",
      "source": [
        "# Python sets and an example on validate survey response categories\n",
        "allowed_responses = {\"strongly_agree\", \"agree\", \"neutral\", \"disagree\", \"strongly_disagree\"}\n",
        "actual_responses = {\"agree\", \"neutral\", \"undecided\", \"agree\"}\n",
        "\n",
        "invalid_responses = actual_responses - allowed_responses\n",
        "print(f\"Invalid responses to filter: {invalid_responses}\")\n",
        "\n",
        "# Other common sets operations can be added"
      ],
      "metadata": {
        "colab": {
          "base_uri": "https://localhost:8080/"
        },
        "id": "tkpOeyJecP5A",
        "outputId": "da35dc41-2637-4931-90b4-db8e7c095d52"
      },
      "execution_count": 27,
      "outputs": [
        {
          "output_type": "stream",
          "name": "stdout",
          "text": [
            "Invalid responses to filter: {'undecided'}\n"
          ]
        }
      ]
    },
    {
      "cell_type": "code",
      "source": [
        "#Comprehension in Python: An example to create covariance\n",
        "#====================================================================\n",
        "# We start with the easier cases such\n",
        "# -List comprehension, dictionary comprehesion, etc.\n",
        "#====================================================================\n",
        "\n",
        "# Nested comprehension\n",
        "\n",
        "\n",
        "variables = [\"X\", \"Y\", \"Z\"]\n",
        "cov_matrix = {\n",
        "    row: {col: 0.5 if row != col else 1.0 for col in variables}\n",
        "    for row in variables\n",
        "}\n",
        "\n",
        "print(\"Simulated Covariance Matrix:\")\n",
        "for row in cov_matrix:\n",
        "    print(f\"{row}: {cov_matrix[row]}\")\n",
        "\n",
        "# Memory-efficient sum of squares (better for big data)\n",
        "large_dataset = (x**2 for x in range(1000000))  # Generator, not list\n",
        "total = sum(large_dataset)\n",
        "print(f\"Sum of squares for 1M elements: {total:,}\")\n",
        "\n",
        "# More examples on Comprehensions can be added"
      ],
      "metadata": {
        "colab": {
          "base_uri": "https://localhost:8080/"
        },
        "id": "cTU0c7UgcXd7",
        "outputId": "e58877e0-cd2c-4739-b06a-b311dbfd3471"
      },
      "execution_count": 28,
      "outputs": [
        {
          "output_type": "stream",
          "name": "stdout",
          "text": [
            "Simulated Covariance Matrix:\n",
            "X: {'X': 1.0, 'Y': 0.5, 'Z': 0.5}\n",
            "Y: {'X': 0.5, 'Y': 1.0, 'Z': 0.5}\n",
            "Z: {'X': 0.5, 'Y': 0.5, 'Z': 1.0}\n",
            "Sum of squares for 1M elements: 333,332,833,333,500,000\n"
          ]
        }
      ]
    },
    {
      "cell_type": "code",
      "source": [
        "# Functions\n",
        "def add(a, b):\n",
        "  s = a + b\n",
        "  #print(s)\n",
        "  return s"
      ],
      "metadata": {
        "id": "UEXVsdcYcdeU"
      },
      "execution_count": 29,
      "outputs": []
    },
    {
      "cell_type": "code",
      "source": [
        "#Calling a function\n",
        "s = add(50, 4)"
      ],
      "metadata": {
        "id": "5vgVtXqkcipD"
      },
      "execution_count": 30,
      "outputs": []
    },
    {
      "cell_type": "code",
      "source": [
        "vilages = [\"A\", \"B\", \"C\", \"D\"]"
      ],
      "metadata": {
        "id": "mWkR7UprclP2"
      },
      "execution_count": 31,
      "outputs": []
    },
    {
      "cell_type": "code",
      "source": [
        "import random"
      ],
      "metadata": {
        "id": "T919pmjwco8K"
      },
      "execution_count": 32,
      "outputs": []
    },
    {
      "cell_type": "code",
      "source": [
        "for res in range(3):\n",
        "  for i in range(5):\n",
        "    print(random.choice(vilages))"
      ],
      "metadata": {
        "colab": {
          "base_uri": "https://localhost:8080/"
        },
        "id": "ykEhNYLIcuGz",
        "outputId": "28a5d135-5506-4caa-bcfe-b6d539eb5517"
      },
      "execution_count": 33,
      "outputs": [
        {
          "output_type": "stream",
          "name": "stdout",
          "text": [
            "D\n",
            "A\n",
            "A\n",
            "D\n",
            "B\n",
            "C\n",
            "A\n",
            "B\n",
            "B\n",
            "B\n",
            "C\n",
            "B\n",
            "D\n",
            "B\n",
            "A\n"
          ]
        }
      ]
    },
    {
      "cell_type": "code",
      "source": [
        "# Simulate household survey data\n",
        "def simulate_subjects(subject_id):\n",
        "    data = {\n",
        "      \"id\": subject_id,\n",
        "        \"age\": random.randint(18, 90),\n",
        "        \"residense\": random.choice([\"rural\", \"urban\"]),\n",
        "        \"consuption\": f\"{random.gauss(100, 15):.4f}\",\n",
        "        \"income\": f\"{random.gauss(215, 10):.4f}\" if random.random() < 0.3 else None  # Missing data simulation\n",
        "    }\n",
        "    return data"
      ],
      "metadata": {
        "id": "bn-RPW4vcuyQ"
      },
      "execution_count": 34,
      "outputs": []
    },
    {
      "cell_type": "code",
      "source": [
        "# Generate 1000 respondents\n",
        "study_population = [simulate_subjects(i) for i in range(10)]"
      ],
      "metadata": {
        "id": "EibyHXXPc0B3"
      },
      "execution_count": 35,
      "outputs": []
    },
    {
      "cell_type": "code",
      "source": [
        "# Print all income\n",
        "for p in study_population:\n",
        "  print(p[\"income\"])"
      ],
      "metadata": {
        "colab": {
          "base_uri": "https://localhost:8080/"
        },
        "id": "76WPg7zjc3Vc",
        "outputId": "a5d936d1-b811-41a3-e5ad-3fdb4b00d230"
      },
      "execution_count": 36,
      "outputs": [
        {
          "output_type": "stream",
          "name": "stdout",
          "text": [
            "None\n",
            "None\n",
            "193.4361\n",
            "None\n",
            "None\n",
            "185.3855\n",
            "None\n",
            "None\n",
            "215.7385\n",
            "None\n"
          ]
        }
      ]
    },
    {
      "cell_type": "code",
      "source": [
        "# Show first 3 subjects\n",
        "for subject in study_population[:3]:\n",
        "    print(subject)"
      ],
      "metadata": {
        "colab": {
          "base_uri": "https://localhost:8080/"
        },
        "id": "6ZEjFbSjc9k6",
        "outputId": "48e6e627-7585-4f70-9a4d-044eb672a330"
      },
      "execution_count": 37,
      "outputs": [
        {
          "output_type": "stream",
          "name": "stdout",
          "text": [
            "{'id': 0, 'age': 58, 'residense': 'urban', 'consuption': '83.7293', 'income': None}\n",
            "{'id': 1, 'age': 40, 'residense': 'rural', 'consuption': '76.8149', 'income': None}\n",
            "{'id': 2, 'age': 72, 'residense': 'urban', 'consuption': '121.2139', 'income': '193.4361'}\n"
          ]
        }
      ]
    },
    {
      "cell_type": "code",
      "source": [
        "# Error handling: Safely handle missing data\n",
        "def safe_average(values):\n",
        "    try:\n",
        "        clean = [float(x) for x in values if x is not None]\n",
        "        return sum(clean)/len(clean)\n",
        "    except ZeroDivisionError:\n",
        "        print(\"Warning: All values missing!\")\n",
        "        return None"
      ],
      "metadata": {
        "id": "ahNhOsHgdDPi"
      },
      "execution_count": 38,
      "outputs": []
    },
    {
      "cell_type": "code",
      "source": [
        "# You can Test with real-world missing data\n",
        "income_results = [p[\"income\"] for p in study_population]\n",
        "print(f\"Average income result: {safe_average(income_results):.1f}\")"
      ],
      "metadata": {
        "colab": {
          "base_uri": "https://localhost:8080/"
        },
        "id": "osMS3JkmdGNq",
        "outputId": "f61ba1c4-a380-4848-fe63-1b9a2c3021e9"
      },
      "execution_count": 39,
      "outputs": [
        {
          "output_type": "stream",
          "name": "stdout",
          "text": [
            "Average income result: 198.2\n"
          ]
        }
      ]
    },
    {
      "cell_type": "markdown",
      "source": [
        "# Exerices\n",
        "#======================================================================\n",
        "# Simulate Python data dictionary with columns such as \"Income category (low, medium, high)\", \"Age category such as \"teen\", \"adult\", \"senior\", \"location such as rural, urban\", \"social security such as yes, no\"\n",
        "===================================================================================================================\n"
      ],
      "metadata": {
        "id": "HHuvyV2jdMw_"
      }
    },
    {
      "cell_type": "code",
      "source": [],
      "metadata": {
        "id": "XwtlMgsDedgn"
      },
      "execution_count": null,
      "outputs": []
    }
  ]
}