{
  "nbformat": 4,
  "nbformat_minor": 0,
  "metadata": {
    "colab": {
      "private_outputs": true,
      "provenance": [],
      "authorship_tag": "ABX9TyMzjEZQJTERBJnWetGQLCNc",
      "include_colab_link": true
    },
    "kernelspec": {
      "name": "python3",
      "display_name": "Python 3"
    },
    "language_info": {
      "name": "python"
    }
  },
  "cells": [
    {
      "cell_type": "markdown",
      "metadata": {
        "id": "view-in-github",
        "colab_type": "text"
      },
      "source": [
        "<a href=\"https://colab.research.google.com/github/martinpius/practicals_1/blob/main/BigDataVizualization.ipynb\" target=\"_parent\"><img src=\"https://colab.research.google.com/assets/colab-badge.svg\" alt=\"Open In Colab\"/></a>"
      ]
    },
    {
      "cell_type": "code",
      "execution_count": null,
      "metadata": {
        "id": "lRmEuRDh38W6"
      },
      "outputs": [],
      "source": [
        "# install important packages\n",
        "! pip install holoviews\n",
        "! pip install panel\n",
        "! pip install datashader\n",
        "! pip install jupyter_bokeh\n",
        "! pip install -U nbformat\n",
        "! pip install geopy"
      ]
    },
    {
      "cell_type": "code",
      "source": [],
      "metadata": {
        "id": "Kg7rFFiZ4N8x"
      },
      "execution_count": null,
      "outputs": []
    },
    {
      "cell_type": "code",
      "source": [
        "import pandas as pd\n",
        "import holoviews as hv\n",
        "from holoviews import opts\n",
        "import plotly.express as px\n",
        "import panel as pn\n",
        "import requests\n",
        "import bokeh\n",
        "from io import StringIO\n",
        "hv.extension('bokeh')"
      ],
      "metadata": {
        "id": "woFc-jiG4_SU"
      },
      "execution_count": null,
      "outputs": []
    },
    {
      "cell_type": "code",
      "source": [],
      "metadata": {
        "id": "3T-Kua_kIu1r"
      },
      "execution_count": null,
      "outputs": []
    },
    {
      "cell_type": "code",
      "source": [
        "# URL to large CSV\n",
        "url = \"https://covid.ourworldindata.org/data/owid-covid-data.csv\"\n",
        "\n",
        "output_path = \"new_covid_data.csv\"\n",
        "\n",
        "def download_large_file(url, output_path):\n",
        "    session = requests.Session()\n",
        "    retry_count = 3\n",
        "    for attempt in range(retry_count):\n",
        "        try:\n",
        "            with session.get(url, stream=True, timeout=60) as r:\n",
        "                r.raise_for_status()  # Raises HTTPError if status != 200\n",
        "                with open(output_path, 'wb') as f:\n",
        "                    for chunk in r.iter_content(chunk_size=8192):\n",
        "                        if chunk:  # Filter out keep-alive chunks\n",
        "                            f.write(chunk)\n",
        "            print(f\"Download completed: {output_path}\")\n",
        "            return\n",
        "        except (requests.exceptions.ChunkedEncodingError, requests.exceptions.ConnectionError) as e:\n",
        "            print(f\"Attempt {attempt+1} failed: {e}\")\n",
        "    print(\"Failed to download the file after multiple attempts.\")\n",
        "\n",
        "# Run the download"
      ],
      "metadata": {
        "id": "up3aSG7r4_-Q"
      },
      "execution_count": null,
      "outputs": []
    },
    {
      "cell_type": "code",
      "source": [
        "download_large_file(url, output_path)"
      ],
      "metadata": {
        "id": "qjl97PpiIs02"
      },
      "execution_count": null,
      "outputs": []
    },
    {
      "cell_type": "code",
      "source": [
        "df = pd.read_csv(\"new_covid_data.csv\")"
      ],
      "metadata": {
        "id": "gwNZdf_dIy_K"
      },
      "execution_count": null,
      "outputs": []
    },
    {
      "cell_type": "code",
      "source": [
        "display(df.head(10))"
      ],
      "metadata": {
        "id": "qjmWJbP9I84W"
      },
      "execution_count": null,
      "outputs": []
    },
    {
      "cell_type": "code",
      "source": [
        "# Optional: Filter to specific countries\n",
        "countries = [\"Germany\", \"Russia\", \"India\", \"Italy\", \"Spain\", \"China\", \"Senegal\"]\n",
        "df = df[df[\"location\"].isin(countries)]"
      ],
      "metadata": {
        "id": "H1JJVOxgJCGL"
      },
      "execution_count": null,
      "outputs": []
    },
    {
      "cell_type": "code",
      "source": [
        "df['location'].unique() # See the selected countries"
      ],
      "metadata": {
        "id": "opH5sISrH8h-"
      },
      "execution_count": null,
      "outputs": []
    },
    {
      "cell_type": "code",
      "source": [
        "# Create dataset\n",
        "dataset = hv.Dataset(df, kdims=[\"location\", \"date\"], vdims=[\"new_cases\"])\n",
        "\n",
        "# Create individual curves per location\n",
        "curves = dataset.to(hv.Curve, kdims=[\"date\"], vdims=[\"new_cases\"]).overlay('location')\n",
        "\n",
        "# Display without datashading\n",
        "curves.opts(\n",
        "    opts.Curve(width=900, height=400, tools=['hover'], title=\"New COVID-19 Cases: East & West Africa\")\n",
        ")"
      ],
      "metadata": {
        "id": "a34SFPHtICsE"
      },
      "execution_count": null,
      "outputs": []
    },
    {
      "cell_type": "code",
      "source": [
        "import plotly.io as pio\n",
        "import plotly.io as pio\n",
        "pio.renderers.default = 'colab'\n",
        "\n",
        "# HIGH-PERFORMANCE VISUALIZATION IN PURE PYTHON\n",
        "# A. Time Series (Holoviews + Datashader)\n",
        "# Set renderer to browser\n",
        "pio.renderers.default = \"browser\"\n",
        "# Filter for latest date\n",
        "latest = df[df['date'] == df['date'].max()]\n",
        "\n",
        "print(latest[['location', 'new_cases']].dropna())\n",
        "print(latest['new_cases'].sum())\n",
        "\n",
        "\n",
        "# # Plot\n",
        "# fig = px.bar(latest, x='location', y='new_cases', title=\"New Cases by Country\")\n",
        "# fig.show()"
      ],
      "metadata": {
        "id": "uSGhPkwkIJGd"
      },
      "execution_count": null,
      "outputs": []
    },
    {
      "cell_type": "code",
      "source": [
        "import pandas as pd\n",
        "import plotly.express as px\n",
        "import plotly.io as pio\n",
        "\n",
        "# Set Plotly renderer for Colab\n",
        "pio.renderers.default = 'colab'\n",
        "\n",
        "# Ensure date is datetime\n",
        "df['date'] = pd.to_datetime(df['date'])\n",
        "\n",
        "# Filter to rows with new_cases > 0\n",
        "non_zero = df[df['new_cases'] > 0]\n",
        "\n",
        "# Get most recent date with non-zero cases\n",
        "latest_date = non_zero['date'].max()\n",
        "\n",
        "# Filter dataset\n",
        "latest = df[df['date'] == latest_date]\n",
        "\n",
        "# Sort and show top 10 countries\n",
        "top = latest.sort_values(by='new_cases', ascending=False).head(10)\n",
        "\n",
        "# Plot\n",
        "fig = px.bar(top, x='location', y='new_cases', title=f\"New COVID-19 Cases by Country ({latest_date.date()})\")\n",
        "fig.show()"
      ],
      "metadata": {
        "id": "wpCCIZrRIYce"
      },
      "execution_count": null,
      "outputs": []
    },
    {
      "cell_type": "code",
      "source": [
        "# Re-Load & clean data\n",
        "df = pd.read_csv(\"new_covid_data.csv\")\n",
        "df['date'] = pd.to_datetime(df['date'])\n",
        "df['new_cases'] = pd.to_numeric(df['new_cases'], errors='coerce').fillna(0)\n",
        "df = df[df['location'].notna()]"
      ],
      "metadata": {
        "id": "kB-9XMnjJa6c"
      },
      "execution_count": null,
      "outputs": []
    },
    {
      "cell_type": "code",
      "source": [
        "# Get latest date with non-zero new cases\n",
        "non_zero = df[df['new_cases'] > 0]\n",
        "latest_date = non_zero['date'].max()\n",
        "latest = df[df['date'] == latest_date]\n",
        "top10 = latest.sort_values('new_cases', ascending=False).head(10)"
      ],
      "metadata": {
        "id": "rNILMuXeJpnT"
      },
      "execution_count": null,
      "outputs": []
    },
    {
      "cell_type": "code",
      "source": [
        "# Display top 10 countries with more new cases"
      ],
      "metadata": {
        "id": "dTGuacqmJw_u"
      },
      "execution_count": null,
      "outputs": []
    },
    {
      "cell_type": "code",
      "source": [
        "top10.head(10)"
      ],
      "metadata": {
        "id": "MdwuC_tlJ4As"
      },
      "execution_count": null,
      "outputs": []
    },
    {
      "cell_type": "code",
      "source": [
        "# Unique countries for selection\n",
        "countries = sorted(df['location'].unique().tolist())\n",
        "default_countries = ['Europe', 'Asia', 'Italy']"
      ],
      "metadata": {
        "id": "6nNEnTDMJ4ai"
      },
      "execution_count": null,
      "outputs": []
    },
    {
      "cell_type": "code",
      "source": [
        "# Set Widgets for dashboard\n",
        "country_select = pn.widgets.MultiSelect(name='Select Countries',\n",
        "            options=countries, value=default_countries, size=10)"
      ],
      "metadata": {
        "id": "-Q1i3ttXJ8Gp"
      },
      "execution_count": null,
      "outputs": []
    },
    {
      "cell_type": "code",
      "source": [
        "# --- Geospatial COVID-19 Plot for Europe & Americas ---\n",
        "\n",
        "# Focus on selected countries with reliable data\n",
        "europe_america_countries = [\n",
        "    # Europe\n",
        "    \"Germany\", \"France\", \"Italy\", \"Spain\", \"United Kingdom\", \"Poland\", \"Netherlands\", \"Greece\",\n",
        "    # North America\n",
        "    \"United States\", \"Canada\", \"Mexico\",\n",
        "    # South America\n",
        "    \"Brazil\", \"Argentina\", \"Colombia\", \"Chile\", \"Peru\"\n",
        "]\n",
        "\n",
        "# Subset the DataFrame (assuming `df` is already defined with proper date/new_cases cleaning)\n",
        "latest_date = df[df['new_cases'] > 0]['date'].max()\n",
        "latest_df = df[(df['date'] == latest_date) & (df['location'].isin(europe_america_countries))]\n",
        "\n",
        "# Hardcoded coordinates\n",
        "coord_data = {\n",
        "    \"Germany\": (51.1657, 10.4515),\n",
        "    \"France\": (46.2276, 2.2137),\n",
        "    \"Italy\": (41.8719, 12.5674),\n",
        "    \"Spain\": (40.4637, -3.7492),\n",
        "    \"United Kingdom\": (55.3781, -3.4360),\n",
        "    \"Poland\": (51.9194, 19.1451),\n",
        "    \"Netherlands\": (52.1326, 5.2913),\n",
        "    \"Greece\": (39.0742, 21.8243),\n",
        "    \"United States\": (37.0902, -95.7129),\n",
        "    \"Canada\": (56.1304, -106.3468),\n",
        "    \"Mexico\": (23.6345, -102.5528),\n",
        "    \"Brazil\": (-14.2350, -51.9253),\n",
        "    \"Argentina\": (-38.4161, -63.6167),\n",
        "    \"Colombia\": (4.5709, -74.2973),\n",
        "    \"Chile\": (-35.6751, -71.5430),\n",
        "    \"Peru\": (-9.1899, -75.0152)\n",
        "}\n",
        "\n",
        "# Assign coordinates\n",
        "latest_df['latitude'] = latest_df['location'].map(lambda x: coord_data.get(x, (None, None))[0])\n",
        "latest_df['longitude'] = latest_df['location'].map(lambda x: coord_data.get(x, (None, None))[1])\n",
        "geo_df = latest_df.dropna(subset=['latitude', 'longitude'])\n",
        "\n",
        "# Create geospatial figure\n",
        "geo_fig = px.scatter_geo(\n",
        "    geo_df,\n",
        "    lat='latitude',\n",
        "    lon='longitude',\n",
        "    hover_name='location',\n",
        "    size='new_cases',\n",
        "    color='new_cases',\n",
        "    projection='natural earth',\n",
        "    title=f\"COVID-19 New Cases in Europe and the Americas ({latest_date.date()})\",\n",
        "    color_continuous_scale='Reds'\n",
        ")\n",
        "\n",
        "#geo_fig.update_layout(margin=dict(l=0, r=0, t=50, b=0))\n"
      ],
      "metadata": {
        "id": "0AwDxy7jJ_Lo"
      },
      "execution_count": null,
      "outputs": []
    },
    {
      "cell_type": "code",
      "source": [
        "df = pd.read_csv(\"new_covid_data.csv\")\n",
        "df['date'] = pd.to_datetime(df['date'])\n",
        "df['new_cases'] = pd.to_numeric(df['new_cases'], errors='coerce').fillna(0)\n",
        "\n",
        "# Most recent date with actual new cases\n",
        "latest_nonzero_date = df[df['new_cases'] > 0]['date'].max()\n",
        "latest_df = df[df['date'] == latest_nonzero_date]\n",
        "top10 = latest_df.sort_values(\"new_cases\", ascending=False).head(10)\n",
        "\n",
        "# Country selector widget\n",
        "countries = sorted(df['location'].unique())\n",
        "country_select = pn.widgets.MultiSelect(\n",
        "    name=\"Select Countries\",\n",
        "    options=countries,\n",
        "    value=[\"Nigeria\", \"Kenya\", \"Ghana\"],\n",
        "    size=10,\n",
        "    width=300\n",
        ")\n",
        "\n",
        "# Bar chart function\n",
        "def bar_chart():\n",
        "    fig = px.bar(top10, x='location', y='new_cases',\n",
        "                 title=f\"Top 10 Countries by New COVID-19 Cases ({latest_nonzero_date.date()})\",\n",
        "                 color='new_cases', color_continuous_scale='OrRd')\n",
        "    fig.update_layout(margin=dict(l=20, r=20, t=40, b=20), height=400)\n",
        "    return fig\n",
        "\n",
        "# Line chart (remove decorator!)\n",
        "def line_chart(selected):\n",
        "    d = df[df['location'].isin(selected)]\n",
        "    fig = px.line(d, x='date', y='new_cases', color='location',\n",
        "                  title=\"New COVID-19 Cases Over Time\")\n",
        "    fig.update_layout(margin=dict(l=20, r=20, t=40, b=20), height=400)\n",
        "    return fig\n",
        "\n",
        "# Heatmap function\n",
        "def heatmap():\n",
        "    heat_data = df.pivot_table(index='location', columns='date', values='new_cases', fill_value=0)\n",
        "    fig = px.imshow(\n",
        "        heat_data.values,\n",
        "        labels=dict(x=\"Date\", y=\"Country\", color=\"New Cases\"),\n",
        "        x=heat_data.columns.strftime('%Y-%m-%d'),\n",
        "        y=heat_data.index,\n",
        "        color_continuous_scale=\"Viridis\",\n",
        "        title=\"Heatmap: New Cases by Country Over Time\"\n",
        "    )\n",
        "    fig.update_layout(height=600)\n",
        "    return fig\n",
        "\n",
        "# Bind the interactive chart\n",
        "line_chart_panel = pn.bind(line_chart, country_select)\n",
        "\n",
        "# Panel layout\n",
        "dashboard = pn.template.FastListTemplate(\n",
        "    title=\"COVID-19 Dashboard: East & West Africa\",\n",
        "    sidebar=[pn.pane.Markdown(\"### Filters\"), country_select],\n",
        "    main=[\n",
        "        pn.pane.Plotly(bar_chart(), config={\"responsive\": True}),\n",
        "        pn.Spacer(height=20),\n",
        "        line_chart_panel,\n",
        "        pn.Spacer(height=20),\n",
        "        pn.pane.Plotly(geo_fig, config={\"responsive\": True}),\n",
        "        pn.pane.Plotly(heatmap(), config={\"responsive\": True})\n",
        "    ]\n",
        ")\n",
        "pn.extension('plotly', sizing_mode=\"stretch_width\")\n",
        "#dashboard.show()\n",
        "dashboard.servable()"
      ],
      "metadata": {
        "id": "t-yAICVoKLdT"
      },
      "execution_count": null,
      "outputs": []
    },
    {
      "cell_type": "code",
      "source": [],
      "metadata": {
        "id": "6kXWxL-zKX3-"
      },
      "execution_count": null,
      "outputs": []
    }
  ]
}