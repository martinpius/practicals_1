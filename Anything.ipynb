{
  "nbformat": 4,
  "nbformat_minor": 0,
  "metadata": {
    "colab": {
      "provenance": [],
      "include_colab_link": true
    },
    "kernelspec": {
      "name": "python3",
      "display_name": "Python 3"
    },
    "language_info": {
      "name": "python"
    }
  },
  "cells": [
    {
      "cell_type": "markdown",
      "metadata": {
        "id": "view-in-github",
        "colab_type": "text"
      },
      "source": [
        "<a href=\"https://colab.research.google.com/github/martinpius/practicals_1/blob/main/Anything.ipynb\" target=\"_parent\"><img src=\"https://colab.research.google.com/assets/colab-badge.svg\" alt=\"Open In Colab\"/></a>"
      ]
    },
    {
      "cell_type": "code",
      "execution_count": null,
      "metadata": {
        "id": "E9JmQR75PSVr"
      },
      "outputs": [],
      "source": [
        "from typing import List, Tuple, Dict"
      ]
    },
    {
      "cell_type": "code",
      "source": [
        "Age = 12;b = 15"
      ],
      "metadata": {
        "id": "KXCB_FzXTVp8"
      },
      "execution_count": null,
      "outputs": []
    },
    {
      "cell_type": "code",
      "source": [
        "Age"
      ],
      "metadata": {
        "colab": {
          "base_uri": "https://localhost:8080/"
        },
        "id": "sLjGNJ95Toeq",
        "outputId": "ae21bf87-8fa3-4362-d9c9-d9298b1c73e9"
      },
      "execution_count": null,
      "outputs": [
        {
          "output_type": "execute_result",
          "data": {
            "text/plain": [
              "12"
            ]
          },
          "metadata": {},
          "execution_count": 3
        }
      ]
    },
    {
      "cell_type": "code",
      "source": [
        "b"
      ],
      "metadata": {
        "colab": {
          "base_uri": "https://localhost:8080/"
        },
        "id": "CS7VbFViTqLu",
        "outputId": "f764def1-bb0e-4198-cbc0-18889251f04d"
      },
      "execution_count": null,
      "outputs": [
        {
          "output_type": "execute_result",
          "data": {
            "text/plain": [
              "15"
            ]
          },
          "metadata": {},
          "execution_count": 4
        }
      ]
    },
    {
      "cell_type": "code",
      "source": [
        "a, b, c = 12, 23,100"
      ],
      "metadata": {
        "id": "Yok47m96TsQw"
      },
      "execution_count": null,
      "outputs": []
    },
    {
      "cell_type": "code",
      "source": [
        "# Python datatypes--> Python comment\n",
        "\n",
        "a = 12\n",
        "b = 12.4\n",
        "fname = \"Martin\"\n"
      ],
      "metadata": {
        "id": "a59D4jBmUrpP"
      },
      "execution_count": null,
      "outputs": []
    },
    {
      "cell_type": "code",
      "source": [
        "#Python list\n",
        "L = [1,2,3]"
      ],
      "metadata": {
        "id": "C6Ctz4P-Vl_P"
      },
      "execution_count": null,
      "outputs": []
    },
    {
      "cell_type": "code",
      "source": [
        "L1 = list((1, 2, 3))"
      ],
      "metadata": {
        "id": "buL-oHn8Vl80"
      },
      "execution_count": null,
      "outputs": []
    },
    {
      "cell_type": "code",
      "source": [
        "L3 = [1, 2, 3, \"martin\", 22.90]"
      ],
      "metadata": {
        "id": "qpATapu3Vl6c"
      },
      "execution_count": null,
      "outputs": []
    },
    {
      "cell_type": "code",
      "source": [
        "# Accessing elements in a list\n",
        "L1[0]# First elmt"
      ],
      "metadata": {
        "colab": {
          "base_uri": "https://localhost:8080/"
        },
        "id": "kiFOiV5YVl4G",
        "outputId": "e972dc1f-9bb6-4d5f-de95-f5d9aed77c26"
      },
      "execution_count": null,
      "outputs": [
        {
          "output_type": "execute_result",
          "data": {
            "text/plain": [
              "1"
            ]
          },
          "metadata": {},
          "execution_count": 23
        }
      ]
    },
    {
      "cell_type": "code",
      "source": [
        "L1[-1] # Last element"
      ],
      "metadata": {
        "colab": {
          "base_uri": "https://localhost:8080/"
        },
        "id": "Uq3F2NEEVl1l",
        "outputId": "19a3961c-3085-4f9a-eff1-95ab0f21addc"
      },
      "execution_count": null,
      "outputs": [
        {
          "output_type": "execute_result",
          "data": {
            "text/plain": [
              "3"
            ]
          },
          "metadata": {},
          "execution_count": 24
        }
      ]
    },
    {
      "cell_type": "code",
      "source": [
        "L1"
      ],
      "metadata": {
        "colab": {
          "base_uri": "https://localhost:8080/"
        },
        "id": "hiQ1eZyLVlzN",
        "outputId": "648f53a9-ef9f-4061-d1fc-08928dc1ec4b"
      },
      "execution_count": null,
      "outputs": [
        {
          "output_type": "execute_result",
          "data": {
            "text/plain": [
              "[1, 2, 3]"
            ]
          },
          "metadata": {},
          "execution_count": 25
        }
      ]
    },
    {
      "cell_type": "code",
      "source": [
        "L[2]"
      ],
      "metadata": {
        "colab": {
          "base_uri": "https://localhost:8080/"
        },
        "id": "dU2G8PhKVlw-",
        "outputId": "e1093703-c034-43d9-f15c-95f334e910ff"
      },
      "execution_count": null,
      "outputs": [
        {
          "output_type": "execute_result",
          "data": {
            "text/plain": [
              "3"
            ]
          },
          "metadata": {},
          "execution_count": 27
        }
      ]
    },
    {
      "cell_type": "code",
      "source": [
        "L3"
      ],
      "metadata": {
        "colab": {
          "base_uri": "https://localhost:8080/"
        },
        "id": "CFJMu7KHVlui",
        "outputId": "8cce2770-c032-43b0-b36d-f2690b9ce8d9"
      },
      "execution_count": null,
      "outputs": [
        {
          "output_type": "execute_result",
          "data": {
            "text/plain": [
              "[1, 2, 3, 'martin', 22.9]"
            ]
          },
          "metadata": {},
          "execution_count": 28
        }
      ]
    },
    {
      "cell_type": "code",
      "source": [
        "L3[2:4]"
      ],
      "metadata": {
        "colab": {
          "base_uri": "https://localhost:8080/"
        },
        "id": "M8BwqpnHaPw-",
        "outputId": "7857859f-d0f4-41ae-de3e-80312612bf73"
      },
      "execution_count": null,
      "outputs": [
        {
          "output_type": "execute_result",
          "data": {
            "text/plain": [
              "[3, 'martin']"
            ]
          },
          "metadata": {},
          "execution_count": 34
        }
      ]
    },
    {
      "cell_type": "code",
      "source": [
        "L3[2:]"
      ],
      "metadata": {
        "colab": {
          "base_uri": "https://localhost:8080/"
        },
        "id": "4xXqpa6saPuT",
        "outputId": "60abfa36-8095-402d-c27f-3a19d500ec29"
      },
      "execution_count": null,
      "outputs": [
        {
          "output_type": "execute_result",
          "data": {
            "text/plain": [
              "[3, 'martin', 22.9]"
            ]
          },
          "metadata": {},
          "execution_count": 35
        }
      ]
    },
    {
      "cell_type": "code",
      "source": [
        "L3[:-1]"
      ],
      "metadata": {
        "colab": {
          "base_uri": "https://localhost:8080/"
        },
        "id": "ZADOGQEnaPrR",
        "outputId": "8f9f3e91-dc7d-4f01-9cd1-28c33406d071"
      },
      "execution_count": null,
      "outputs": [
        {
          "output_type": "execute_result",
          "data": {
            "text/plain": [
              "[1, 2, 3, 'martin']"
            ]
          },
          "metadata": {},
          "execution_count": 36
        }
      ]
    },
    {
      "cell_type": "code",
      "source": [
        "print(L3)"
      ],
      "metadata": {
        "colab": {
          "base_uri": "https://localhost:8080/"
        },
        "id": "trQRIJ3NaPoB",
        "outputId": "f641ab95-1446-4b2f-91e7-add9cca50c32"
      },
      "execution_count": null,
      "outputs": [
        {
          "output_type": "stream",
          "name": "stdout",
          "text": [
            "[1, 2, 3, 'martin', 22.9]\n"
          ]
        }
      ]
    },
    {
      "cell_type": "code",
      "source": [
        "# F-print in Python"
      ],
      "metadata": {
        "id": "06tON5yYaPlc"
      },
      "execution_count": null,
      "outputs": []
    },
    {
      "cell_type": "code",
      "source": [
        "print(F\"This is the first element of L3 : {L[0]}\")"
      ],
      "metadata": {
        "colab": {
          "base_uri": "https://localhost:8080/"
        },
        "id": "uDxPGHCIaPik",
        "outputId": "cc2e43a6-aaba-4fab-d454-3443fb4c287f"
      },
      "execution_count": null,
      "outputs": [
        {
          "output_type": "stream",
          "name": "stdout",
          "text": [
            "This is the first element of L3 : 1\n"
          ]
        }
      ]
    },
    {
      "cell_type": "code",
      "source": [
        "# Python set---> Avoid data duplication\n",
        "A = {1, 2, 3,3,4,5,6,7,4}\n"
      ],
      "metadata": {
        "id": "KQE-1uWvaPgH"
      },
      "execution_count": null,
      "outputs": []
    },
    {
      "cell_type": "code",
      "source": [
        "A"
      ],
      "metadata": {
        "colab": {
          "base_uri": "https://localhost:8080/"
        },
        "id": "3gB03XOpaPdo",
        "outputId": "df7cee06-622f-42bf-8894-f57a703e0c69"
      },
      "execution_count": null,
      "outputs": [
        {
          "output_type": "execute_result",
          "data": {
            "text/plain": [
              "{1, 2, 3, 4, 5, 6, 7}"
            ]
          },
          "metadata": {},
          "execution_count": 58
        }
      ]
    },
    {
      "cell_type": "code",
      "source": [
        "A.pop()"
      ],
      "metadata": {
        "colab": {
          "base_uri": "https://localhost:8080/"
        },
        "id": "St8bwKw2fY97",
        "outputId": "13fe73a7-88ae-414c-a8d7-5366516e47da"
      },
      "execution_count": null,
      "outputs": [
        {
          "output_type": "execute_result",
          "data": {
            "text/plain": [
              "1"
            ]
          },
          "metadata": {},
          "execution_count": 59
        }
      ]
    },
    {
      "cell_type": "code",
      "source": [
        "A"
      ],
      "metadata": {
        "colab": {
          "base_uri": "https://localhost:8080/"
        },
        "id": "Rob6O8C-aPYW",
        "outputId": "25d909c2-3814-4468-e822-8b0b765295d5"
      },
      "execution_count": null,
      "outputs": [
        {
          "output_type": "execute_result",
          "data": {
            "text/plain": [
              "{2, 3, 4, 5, 6, 7}"
            ]
          },
          "metadata": {},
          "execution_count": 64
        }
      ]
    },
    {
      "cell_type": "code",
      "source": [
        "A.update([100])"
      ],
      "metadata": {
        "id": "Biect85EaPVy"
      },
      "execution_count": null,
      "outputs": []
    },
    {
      "cell_type": "code",
      "source": [
        "A.pop()"
      ],
      "metadata": {
        "colab": {
          "base_uri": "https://localhost:8080/"
        },
        "id": "UTCippsBaPJl",
        "outputId": "ace69080-20aa-41ee-da04-e2f280322ff8"
      },
      "execution_count": null,
      "outputs": [
        {
          "output_type": "execute_result",
          "data": {
            "text/plain": [
              "True"
            ]
          },
          "metadata": {},
          "execution_count": 56
        }
      ]
    },
    {
      "cell_type": "code",
      "source": [
        "A = {2,3,4,True,1}"
      ],
      "metadata": {
        "id": "Jhn6ExPiUyzg"
      },
      "execution_count": null,
      "outputs": []
    },
    {
      "cell_type": "code",
      "source": [
        "A"
      ],
      "metadata": {
        "colab": {
          "base_uri": "https://localhost:8080/"
        },
        "id": "n2o8zShQUyww",
        "outputId": "afbf5721-ea8d-4471-c15b-32f44e6d04e8"
      },
      "execution_count": null,
      "outputs": [
        {
          "output_type": "execute_result",
          "data": {
            "text/plain": [
              "{True, 2, 3, 4}"
            ]
          },
          "metadata": {},
          "execution_count": 49
        }
      ]
    },
    {
      "cell_type": "code",
      "source": [
        "b: bool = False"
      ],
      "metadata": {
        "id": "eihsoEH2Uyt_"
      },
      "execution_count": null,
      "outputs": []
    },
    {
      "cell_type": "code",
      "source": [
        "A"
      ],
      "metadata": {
        "colab": {
          "base_uri": "https://localhost:8080/"
        },
        "id": "9WAOIi14UyrF",
        "outputId": "b3410d97-349a-4312-dda0-579d6c1acc49"
      },
      "execution_count": null,
      "outputs": [
        {
          "output_type": "execute_result",
          "data": {
            "text/plain": [
              "{2, 3, 4, 5, 6, 7}"
            ]
          },
          "metadata": {},
          "execution_count": 62
        }
      ]
    },
    {
      "cell_type": "code",
      "source": [
        "B = {1,2,3,10,20,12}"
      ],
      "metadata": {
        "id": "as99sAlVUyjg"
      },
      "execution_count": null,
      "outputs": []
    },
    {
      "cell_type": "code",
      "source": [
        "A.intersection(B)"
      ],
      "metadata": {
        "colab": {
          "base_uri": "https://localhost:8080/"
        },
        "id": "dcDh-lC7UyUg",
        "outputId": "c689604d-931a-47d3-8213-354a4cbc7761"
      },
      "execution_count": null,
      "outputs": [
        {
          "output_type": "execute_result",
          "data": {
            "text/plain": [
              "{2, 3}"
            ]
          },
          "metadata": {},
          "execution_count": 66
        }
      ]
    },
    {
      "cell_type": "code",
      "source": [
        "# Immutable datatype===> Tuple"
      ],
      "metadata": {
        "id": "BYqlqnLYgRQa"
      },
      "execution_count": null,
      "outputs": []
    },
    {
      "cell_type": "code",
      "source": [
        "T1 = (1,2,3,4)"
      ],
      "metadata": {
        "id": "DxVBRLVRgnus"
      },
      "execution_count": null,
      "outputs": []
    },
    {
      "cell_type": "code",
      "source": [
        "T1[0]"
      ],
      "metadata": {
        "colab": {
          "base_uri": "https://localhost:8080/"
        },
        "id": "PljuKb1wgqn0",
        "outputId": "8fb5937e-6cf9-4db5-8a9d-1b787e623004"
      },
      "execution_count": null,
      "outputs": [
        {
          "output_type": "execute_result",
          "data": {
            "text/plain": [
              "1"
            ]
          },
          "metadata": {},
          "execution_count": 69
        }
      ]
    },
    {
      "cell_type": "code",
      "source": [
        "L1[0]"
      ],
      "metadata": {
        "colab": {
          "base_uri": "https://localhost:8080/"
        },
        "id": "IFmmkviGgxyx",
        "outputId": "16376d2e-a9b4-4ab7-9a4d-56fda56479fe"
      },
      "execution_count": null,
      "outputs": [
        {
          "output_type": "execute_result",
          "data": {
            "text/plain": [
              "1"
            ]
          },
          "metadata": {},
          "execution_count": 70
        }
      ]
    },
    {
      "cell_type": "code",
      "source": [
        "L1[0] = \"Lion\""
      ],
      "metadata": {
        "id": "enMxDjdmg0i-"
      },
      "execution_count": null,
      "outputs": []
    },
    {
      "cell_type": "code",
      "source": [
        "T1[0] = 1000"
      ],
      "metadata": {
        "colab": {
          "base_uri": "https://localhost:8080/",
          "height": 141
        },
        "id": "NvXTM5mfg5JD",
        "outputId": "7148dbc4-6f52-410d-ee24-de01d25b0dfc"
      },
      "execution_count": null,
      "outputs": [
        {
          "output_type": "error",
          "ename": "TypeError",
          "evalue": "'tuple' object does not support item assignment",
          "traceback": [
            "\u001b[0;31m---------------------------------------------------------------------------\u001b[0m",
            "\u001b[0;31mTypeError\u001b[0m                                 Traceback (most recent call last)",
            "\u001b[0;32m<ipython-input-72-a382a571e9d5>\u001b[0m in \u001b[0;36m<cell line: 0>\u001b[0;34m()\u001b[0m\n\u001b[0;32m----> 1\u001b[0;31m \u001b[0mT1\u001b[0m\u001b[0;34m[\u001b[0m\u001b[0;36m0\u001b[0m\u001b[0;34m]\u001b[0m \u001b[0;34m=\u001b[0m \u001b[0;36m1000\u001b[0m\u001b[0;34m\u001b[0m\u001b[0;34m\u001b[0m\u001b[0m\n\u001b[0m",
            "\u001b[0;31mTypeError\u001b[0m: 'tuple' object does not support item assignment"
          ]
        }
      ]
    },
    {
      "cell_type": "code",
      "source": [
        "Mylist = [1,2, (1,2,3), \"Name\"]"
      ],
      "metadata": {
        "id": "1A50M4I9g8I7"
      },
      "execution_count": null,
      "outputs": []
    },
    {
      "cell_type": "code",
      "source": [
        "t2 = (\"mm\", 22, [1,3,4,5])\n"
      ],
      "metadata": {
        "id": "zoxQyyWghL6O"
      },
      "execution_count": null,
      "outputs": []
    },
    {
      "cell_type": "code",
      "source": [
        "# Python dictionary"
      ],
      "metadata": {
        "id": "R6FZq4h9hQCe"
      },
      "execution_count": null,
      "outputs": []
    },
    {
      "cell_type": "code",
      "source": [],
      "metadata": {
        "id": "7Jv3C-TviiWm"
      },
      "execution_count": null,
      "outputs": []
    },
    {
      "cell_type": "code",
      "source": [
        "Mydict = {'names': ['Anna', \"Merry\", \"etc\"], \"Age\": [23, 20, 19]}"
      ],
      "metadata": {
        "id": "IfTUxqCUiG_r"
      },
      "execution_count": null,
      "outputs": []
    },
    {
      "cell_type": "code",
      "source": [
        "Mydict"
      ],
      "metadata": {
        "colab": {
          "base_uri": "https://localhost:8080/"
        },
        "id": "gGwND-z0i24j",
        "outputId": "664fe239-0d68-4e18-90a8-15feef0c0be9"
      },
      "execution_count": null,
      "outputs": [
        {
          "output_type": "execute_result",
          "data": {
            "text/plain": [
              "{'names': ['Anna', 'Merry', 'etc'], 'Age': [23, 20, 19]}"
            ]
          },
          "metadata": {},
          "execution_count": 80
        }
      ]
    },
    {
      "cell_type": "code",
      "source": [
        "Mydict.keys()"
      ],
      "metadata": {
        "colab": {
          "base_uri": "https://localhost:8080/"
        },
        "id": "8S_ktXe3i4us",
        "outputId": "c5152859-b330-4db6-da08-b958049f79af"
      },
      "execution_count": null,
      "outputs": [
        {
          "output_type": "execute_result",
          "data": {
            "text/plain": [
              "dict_keys(['names', 'Age'])"
            ]
          },
          "metadata": {},
          "execution_count": 81
        }
      ]
    },
    {
      "cell_type": "code",
      "source": [
        "list(Mydict.values())"
      ],
      "metadata": {
        "colab": {
          "base_uri": "https://localhost:8080/"
        },
        "id": "Lg_a8sR4jC6O",
        "outputId": "40350f19-d889-43c4-b066-a560f543b5e8"
      },
      "execution_count": null,
      "outputs": [
        {
          "output_type": "execute_result",
          "data": {
            "text/plain": [
              "[['Anna', 'Merry', 'etc'], [23, 20, 19]]"
            ]
          },
          "metadata": {},
          "execution_count": 83
        }
      ]
    },
    {
      "cell_type": "code",
      "source": [
        "D1 = {\"A\":23, \"B\": 200}"
      ],
      "metadata": {
        "id": "keScSCFNjK8p"
      },
      "execution_count": null,
      "outputs": []
    },
    {
      "cell_type": "code",
      "source": [
        "D2 = dict(A = 23, B = 200)"
      ],
      "metadata": {
        "id": "hi1obbrgjeOM"
      },
      "execution_count": null,
      "outputs": []
    },
    {
      "cell_type": "code",
      "source": [
        "# Booliean\n",
        "a = True ; b = False"
      ],
      "metadata": {
        "id": "YudhLgFvjpzU"
      },
      "execution_count": null,
      "outputs": []
    },
    {
      "cell_type": "code",
      "source": [
        "float(a)"
      ],
      "metadata": {
        "colab": {
          "base_uri": "https://localhost:8080/"
        },
        "id": "wKmzRBlwlL68",
        "outputId": "875a2e1e-a1e6-4f01-ad44-ab6ca80fe3d2"
      },
      "execution_count": null,
      "outputs": [
        {
          "output_type": "execute_result",
          "data": {
            "text/plain": [
              "1.0"
            ]
          },
          "metadata": {},
          "execution_count": 97
        }
      ]
    },
    {
      "cell_type": "code",
      "source": [
        "float(b)"
      ],
      "metadata": {
        "colab": {
          "base_uri": "https://localhost:8080/"
        },
        "id": "PdbIISuPlNP9",
        "outputId": "da039d36-f7bd-4074-da76-51be823fa9fb"
      },
      "execution_count": null,
      "outputs": [
        {
          "output_type": "execute_result",
          "data": {
            "text/plain": [
              "0.0"
            ]
          },
          "metadata": {},
          "execution_count": 98
        }
      ]
    },
    {
      "cell_type": "code",
      "source": [
        "a+b"
      ],
      "metadata": {
        "colab": {
          "base_uri": "https://localhost:8080/"
        },
        "id": "ANJn-mollOCJ",
        "outputId": "663b26d4-df89-4c01-851b-d9964817a160"
      },
      "execution_count": null,
      "outputs": [
        {
          "output_type": "execute_result",
          "data": {
            "text/plain": [
              "1"
            ]
          },
          "metadata": {},
          "execution_count": 89
        }
      ]
    },
    {
      "cell_type": "code",
      "source": [
        "a = 100; b =20000"
      ],
      "metadata": {
        "id": "qZ5-XL02lRHe"
      },
      "execution_count": null,
      "outputs": []
    },
    {
      "cell_type": "code",
      "source": [
        "a"
      ],
      "metadata": {
        "colab": {
          "base_uri": "https://localhost:8080/"
        },
        "id": "X-pOHEddmGLy",
        "outputId": "d5632f67-a09a-4877-b838-2362e26a612f"
      },
      "execution_count": null,
      "outputs": [
        {
          "output_type": "execute_result",
          "data": {
            "text/plain": [
              "100"
            ]
          },
          "metadata": {},
          "execution_count": 92
        }
      ]
    },
    {
      "cell_type": "code",
      "source": [
        "b"
      ],
      "metadata": {
        "colab": {
          "base_uri": "https://localhost:8080/"
        },
        "id": "hdbP3wlKmI5I",
        "outputId": "738494fe-8f6c-4b32-c4be-8b7a1596d832"
      },
      "execution_count": null,
      "outputs": [
        {
          "output_type": "execute_result",
          "data": {
            "text/plain": [
              "20000"
            ]
          },
          "metadata": {},
          "execution_count": 93
        }
      ]
    },
    {
      "cell_type": "code",
      "source": [
        "# Conditional statements in Python"
      ],
      "metadata": {
        "id": "H-IHuZCfmJoo"
      },
      "execution_count": null,
      "outputs": []
    },
    {
      "cell_type": "code",
      "source": [
        "# Loops in Python: {While & and for Loop}"
      ],
      "metadata": {
        "id": "7rIfcJwmm1OM"
      },
      "execution_count": null,
      "outputs": []
    },
    {
      "cell_type": "code",
      "source": [
        "# For loop:\n",
        "A1 = [i for i in range(11)] # List comprehension"
      ],
      "metadata": {
        "id": "ZIZceq7SnJtz"
      },
      "execution_count": null,
      "outputs": []
    },
    {
      "cell_type": "code",
      "source": [
        "A2 = []\n",
        "for i in range(11):\n",
        "  A2.append(i)"
      ],
      "metadata": {
        "id": "hE2iJQkln5QK"
      },
      "execution_count": null,
      "outputs": []
    },
    {
      "cell_type": "code",
      "source": [
        "A1"
      ],
      "metadata": {
        "colab": {
          "base_uri": "https://localhost:8080/"
        },
        "id": "FV4hmB2Zn5M7",
        "outputId": "827fd96e-90f9-4e70-96a9-21758211dd96"
      },
      "execution_count": null,
      "outputs": [
        {
          "output_type": "execute_result",
          "data": {
            "text/plain": [
              "[0, 1, 2, 3, 4, 5, 6, 7, 8, 9, 10]"
            ]
          },
          "metadata": {},
          "execution_count": 111
        }
      ]
    },
    {
      "cell_type": "code",
      "source": [
        "A2"
      ],
      "metadata": {
        "colab": {
          "base_uri": "https://localhost:8080/"
        },
        "id": "zG-tjCGRn5KD",
        "outputId": "895c21ca-85c0-4b13-a6ee-3eb7dc7f1097"
      },
      "execution_count": null,
      "outputs": [
        {
          "output_type": "execute_result",
          "data": {
            "text/plain": [
              "[0, 1, 2, 3, 4, 5, 6, 7, 8, 9, 10]"
            ]
          },
          "metadata": {},
          "execution_count": 112
        }
      ]
    },
    {
      "cell_type": "code",
      "source": [
        "# Conditional statement\n",
        "A_even1 = [i for i in A1 if i % 2 ==0]  # List comprehesion\n"
      ],
      "metadata": {
        "id": "1ayvPbq2n5G0"
      },
      "execution_count": null,
      "outputs": []
    },
    {
      "cell_type": "code",
      "source": [
        "A_even2 = []\n",
        "for i in A1:\n",
        "  if i % 2 == 0:\n",
        "    A_even2.append(i)"
      ],
      "metadata": {
        "id": "71UGDcUkn5D7"
      },
      "execution_count": null,
      "outputs": []
    },
    {
      "cell_type": "code",
      "source": [
        "# While loop\n",
        "num = 0\n",
        "while num < 5:\n",
        "  print(num)\n",
        "  num+=1\n",
        "#"
      ],
      "metadata": {
        "colab": {
          "base_uri": "https://localhost:8080/"
        },
        "id": "yfEvGd7dn5Ag",
        "outputId": "30bdaa47-4984-4de7-ea65-ce6be9daede1"
      },
      "execution_count": null,
      "outputs": [
        {
          "output_type": "stream",
          "name": "stdout",
          "text": [
            "0\n",
            "1\n",
            "2\n",
            "3\n",
            "4\n"
          ]
        }
      ]
    },
    {
      "cell_type": "code",
      "source": [
        "# Nested condintional statements"
      ],
      "metadata": {
        "id": "9xwq4nB45PkG"
      },
      "execution_count": null,
      "outputs": []
    },
    {
      "cell_type": "code",
      "source": [
        "age = [20, 23, 25, 17, 32, 45, 60, 77]\n",
        "name_ = [\"John\", \"Ricco\", \"Rich\", \"Sam\",\"Linda\", \"Roz\",\"Anne\",\"James\"]"
      ],
      "metadata": {
        "id": "ro4bKzPw5PgP"
      },
      "execution_count": null,
      "outputs": []
    },
    {
      "cell_type": "code",
      "source": [
        "for n in name_:\n",
        "  print(n)"
      ],
      "metadata": {
        "colab": {
          "base_uri": "https://localhost:8080/"
        },
        "id": "b0lF-gq67U50",
        "outputId": "bb3ac920-c0b2-48eb-854b-b37ba62d9b76"
      },
      "execution_count": null,
      "outputs": [
        {
          "output_type": "stream",
          "name": "stdout",
          "text": [
            "John\n",
            "Ricco\n",
            "Rich\n",
            "Sam\n",
            "Linda\n",
            "Roz\n",
            "Anne\n",
            "James\n"
          ]
        }
      ]
    },
    {
      "cell_type": "code",
      "source": [
        "[i for i in range(len(age))]"
      ],
      "metadata": {
        "colab": {
          "base_uri": "https://localhost:8080/"
        },
        "id": "Mw8uqcyb8t22",
        "outputId": "128ddaf7-5cbb-451b-8ae6-c9781fa76706"
      },
      "execution_count": null,
      "outputs": [
        {
          "output_type": "execute_result",
          "data": {
            "text/plain": [
              "[0, 1, 2, 3, 4, 5, 6, 7]"
            ]
          },
          "metadata": {},
          "execution_count": 147
        }
      ]
    },
    {
      "cell_type": "code",
      "source": [
        "for i in range(len(age)):\n",
        "  if age[i] < 18:\n",
        "    print(f\"Person {name_[i]} is a teen\")\n",
        "  else:\n",
        "    print(f\"Person: {name_[i]} is an adult\")"
      ],
      "metadata": {
        "colab": {
          "base_uri": "https://localhost:8080/"
        },
        "id": "-8pfrLBW5PdH",
        "outputId": "c918641f-96a4-4a07-833e-e5b72e566f77"
      },
      "execution_count": null,
      "outputs": [
        {
          "output_type": "stream",
          "name": "stdout",
          "text": [
            "Person: John is an adult\n",
            "Person: Ricco is an adult\n",
            "Person: Rich is an adult\n",
            "Person Sam is a teen\n",
            "Person: Linda is an adult\n",
            "Person: Roz is an adult\n",
            "Person: Anne is an adult\n",
            "Person: James is an adult\n"
          ]
        }
      ]
    },
    {
      "cell_type": "code",
      "source": [
        "# Nested conditional statements\n",
        "for i in range(len(age)):\n",
        "  if age[i] < 18:\n",
        "    print(f\"Person: {name_[i]} is a teen\")\n",
        "  elif 18 <= age[i] < 45:\n",
        "    print(f\"Person: {name_[i]} is a adult\")\n",
        "  else:\n",
        "    print(f\"Person: {name_[i]} is a senior citizen\")"
      ],
      "metadata": {
        "colab": {
          "base_uri": "https://localhost:8080/"
        },
        "id": "TOQ4ZIs05PaP",
        "outputId": "1a6e1679-600d-4d76-c331-e413f75cce51"
      },
      "execution_count": null,
      "outputs": [
        {
          "output_type": "stream",
          "name": "stdout",
          "text": [
            "Person: John is a adult\n",
            "Person: Ricco is a adult\n",
            "Person: Rich is a adult\n",
            "Person: Sam is a teen\n",
            "Person: Linda is a adult\n",
            "Person: Roz is a senior citizen\n",
            "Person: Anne is a senior citizen\n",
            "Person: James is a senior citizen\n"
          ]
        }
      ]
    },
    {
      "cell_type": "code",
      "source": [
        "mydt = {}\n",
        "for a, n in zip(age, name_):\n",
        "  if a < 20:\n",
        "    mydt[n] = \"Teen\"\n",
        "  elif 20<= a < 45:\n",
        "    mydt[n] = \"Adult\"\n",
        "  else:\n",
        "    mydt[n] = \"Senior Citizen\"\n"
      ],
      "metadata": {
        "id": "5CRaegT45PXJ"
      },
      "execution_count": null,
      "outputs": []
    },
    {
      "cell_type": "code",
      "source": [
        "mydt"
      ],
      "metadata": {
        "id": "kCvBn6N_5PRg",
        "colab": {
          "base_uri": "https://localhost:8080/"
        },
        "outputId": "534f7830-ad8a-4a0a-b3f5-bab22184c954"
      },
      "execution_count": null,
      "outputs": [
        {
          "output_type": "execute_result",
          "data": {
            "text/plain": [
              "{'John': 'Adult',\n",
              " 'Ricco': 'Adult',\n",
              " 'Rich': 'Adult',\n",
              " 'Sam': 'Teen',\n",
              " 'Linda': 'Adult',\n",
              " 'Roz': 'Senior Citizen',\n",
              " 'Anne': 'Senior Citizen',\n",
              " 'James': 'Senior Citizen'}"
            ]
          },
          "metadata": {},
          "execution_count": 153
        }
      ]
    },
    {
      "cell_type": "code",
      "source": [],
      "metadata": {
        "id": "IrFXsI545PNu"
      },
      "execution_count": null,
      "outputs": []
    },
    {
      "cell_type": "code",
      "source": [],
      "metadata": {
        "id": "raUM6dqyn43q"
      },
      "execution_count": null,
      "outputs": []
    },
    {
      "cell_type": "code",
      "source": [],
      "metadata": {
        "id": "j2_tGICUn405"
      },
      "execution_count": null,
      "outputs": []
    },
    {
      "cell_type": "code",
      "source": [
        "A"
      ],
      "metadata": {
        "colab": {
          "base_uri": "https://localhost:8080/"
        },
        "id": "jMF7s6Uwnbpi",
        "outputId": "e27926ce-6e64-4e47-9fcd-acd55751c8a5"
      },
      "execution_count": null,
      "outputs": [
        {
          "output_type": "execute_result",
          "data": {
            "text/plain": [
              "[0, 1, 2, 3, 4, 5, 6, 7, 8, 9, 10]"
            ]
          },
          "metadata": {},
          "execution_count": 104
        }
      ]
    },
    {
      "cell_type": "code",
      "source": [
        "for i in A:\n",
        "  print(i)"
      ],
      "metadata": {
        "colab": {
          "base_uri": "https://localhost:8080/"
        },
        "id": "Rjv9XIOLncWL",
        "outputId": "c71a2982-8df7-4b83-abb6-b6b0ec96c469"
      },
      "execution_count": null,
      "outputs": [
        {
          "output_type": "stream",
          "name": "stdout",
          "text": [
            "0\n",
            "1\n",
            "2\n",
            "3\n",
            "4\n",
            "5\n",
            "6\n",
            "7\n",
            "8\n",
            "9\n",
            "10\n"
          ]
        }
      ]
    },
    {
      "cell_type": "code",
      "source": [],
      "metadata": {
        "id": "2pO3-4FbnsJv"
      },
      "execution_count": null,
      "outputs": []
    }
  ]
}